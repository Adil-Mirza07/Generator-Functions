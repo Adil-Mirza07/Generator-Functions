{
 "cells": [
  {
   "cell_type": "code",
   "execution_count": 1,
   "id": "f3e0e963-db64-43cb-90ee-7420c088d498",
   "metadata": {},
   "outputs": [
    {
     "data": {
      "text/plain": [
       "range(1, 10)"
      ]
     },
     "execution_count": 1,
     "metadata": {},
     "output_type": "execute_result"
    }
   ],
   "source": [
    "range(1,10)"
   ]
  },
  {
   "cell_type": "code",
   "execution_count": 4,
   "id": "6c9094f1-406f-455d-8c80-1625d0533dee",
   "metadata": {},
   "outputs": [
    {
     "name": "stdout",
     "output_type": "stream",
     "text": [
      "1\n",
      "2\n",
      "3\n",
      "4\n",
      "5\n",
      "6\n",
      "7\n",
      "8\n",
      "9\n"
     ]
    }
   ],
   "source": [
    "for i in range(1,10):\n",
    "    print(i)"
   ]
  },
  {
   "cell_type": "code",
   "execution_count": 5,
   "id": "adce2475-877b-4d1e-a2e4-c694d6162c2f",
   "metadata": {},
   "outputs": [],
   "source": [
    "l = [1,2,3,4,5,6,7,8,7,\"mirza\" , \"pwskills\"]"
   ]
  },
  {
   "cell_type": "code",
   "execution_count": 6,
   "id": "9b96453c-2fef-48d0-9541-4fe813270ebf",
   "metadata": {},
   "outputs": [],
   "source": [
    "def test1(a) :\n",
    "    n = []\n",
    "    for i in a :\n",
    "        if type(i) == int :\n",
    "            n.append(i)\n",
    "    return n        "
   ]
  },
  {
   "cell_type": "code",
   "execution_count": 7,
   "id": "b12b2252-e791-459d-8a33-7b2b626786d5",
   "metadata": {},
   "outputs": [
    {
     "data": {
      "text/plain": [
       "[1, 2, 3, 4, 5, 6, 7, 8, 7]"
      ]
     },
     "execution_count": 7,
     "metadata": {},
     "output_type": "execute_result"
    }
   ],
   "source": [
    "test1(l)"
   ]
  },
  {
   "cell_type": "code",
   "execution_count": 11,
   "id": "7ceff4f0-1363-4ad1-a5b8-6279596a952d",
   "metadata": {},
   "outputs": [
    {
     "ename": "SyntaxError",
     "evalue": "invalid syntax (2468798327.py, line 1)",
     "output_type": "error",
     "traceback": [
      "\u001b[0;36m  Cell \u001b[0;32mIn[11], line 1\u001b[0;36m\u001b[0m\n\u001b[0;31m    Fibonacci :\u001b[0m\n\u001b[0m               ^\u001b[0m\n\u001b[0;31mSyntaxError\u001b[0m\u001b[0;31m:\u001b[0m invalid syntax\n"
     ]
    }
   ],
   "source": [
    "Fibonacci :\n",
    "    \n",
    "    0 ,1,1,2,3,5,8,13,21,34"
   ]
  },
  {
   "cell_type": "code",
   "execution_count": 13,
   "id": "eeabbec1-9876-43e5-8c5e-80fdbddd24a4",
   "metadata": {},
   "outputs": [],
   "source": [
    "def test_fib(n):\n",
    "    a,b = 0,1\n",
    "    for i in range(n):\n",
    "        yield a \n",
    "        a,b = b ,a+b"
   ]
  },
  {
   "cell_type": "code",
   "execution_count": 14,
   "id": "6e26d438-fff5-4d13-8bd8-f3ce8d307f3f",
   "metadata": {},
   "outputs": [
    {
     "data": {
      "text/plain": [
       "<generator object test_fib at 0x7fbe146e5b60>"
      ]
     },
     "execution_count": 14,
     "metadata": {},
     "output_type": "execute_result"
    }
   ],
   "source": [
    "test_fib(10)"
   ]
  },
  {
   "cell_type": "code",
   "execution_count": 15,
   "id": "142c8e33-131d-4481-8a1c-50f537a5ff52",
   "metadata": {},
   "outputs": [
    {
     "name": "stdout",
     "output_type": "stream",
     "text": [
      "0\n",
      "1\n",
      "1\n",
      "2\n",
      "3\n",
      "5\n",
      "8\n",
      "13\n",
      "21\n",
      "34\n"
     ]
    }
   ],
   "source": [
    "for i in test_fib(10):\n",
    "    print(i)"
   ]
  },
  {
   "cell_type": "code",
   "execution_count": null,
   "id": "e6d6b57b-21f8-4ebb-96cf-5440caab7bd1",
   "metadata": {},
   "outputs": [],
   "source": []
  }
 ],
 "metadata": {
  "kernelspec": {
   "display_name": "Python 3 (ipykernel)",
   "language": "python",
   "name": "python3"
  },
  "language_info": {
   "codemirror_mode": {
    "name": "ipython",
    "version": 3
   },
   "file_extension": ".py",
   "mimetype": "text/x-python",
   "name": "python",
   "nbconvert_exporter": "python",
   "pygments_lexer": "ipython3",
   "version": "3.10.8"
  }
 },
 "nbformat": 4,
 "nbformat_minor": 5
}
